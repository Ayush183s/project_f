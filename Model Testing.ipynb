{
 "cells": [
  {
   "cell_type": "code",
   "execution_count": 25,
   "metadata": {},
   "outputs": [],
   "source": [
    "import pickle\n",
    "f1 = 'GradientBoostingClassifier.sav'  #0.5370370370370371\n",
    "f2 = 'MultinomialNB.sav'   #0.5423280423280423\n",
    "f3 = 'LogisticRegression.sav'  #0.5370370370370371\n",
    "f4 = 'SVC.sav'  #0.5502645502645502"
   ]
  },
  {
   "cell_type": "code",
   "execution_count": 26,
   "metadata": {},
   "outputs": [],
   "source": [
    "loaded_model = pickle.load(open(f4, 'rb'))\n",
    "tf = pickle.load(open(\"feature.pkl\", 'rb'))"
   ]
  },
  {
   "cell_type": "code",
   "execution_count": 27,
   "metadata": {},
   "outputs": [
    {
     "name": "stdout",
     "output_type": "stream",
     "text": [
      "Because I’m happy Clap along if you feel like a room without a roof Because I’m happy Clap along if you feel like happiness is the truth Because I’m happy Clap along if you know what happiness is to you Because I’m happy Clap along if you feel like that’s what you wanna do https://lyricstranslate.com\n"
     ]
    }
   ],
   "source": [
    "ResultAnswer = loaded_model.predict(tf.transform([input()]).toarray())"
   ]
  },
  {
   "cell_type": "code",
   "execution_count": 28,
   "metadata": {},
   "outputs": [
    {
     "name": "stdout",
     "output_type": "stream",
     "text": [
      "Happy Song\n"
     ]
    }
   ],
   "source": [
    "# 'angry': 0 ,'sad':1, 'relaxed':2 , 'happy': 3\n",
    "\n",
    "if ResultAnswer[0] == 0:\n",
    "    print(\"Angry Song\")\n",
    "    \n",
    "elif ResultAnswer[0] == 1:\n",
    "    print(\"Sad Song\")\n",
    "    \n",
    "elif ResultAnswer[0] == 2:\n",
    "    print(\"Relaxed Song\")\n",
    "    \n",
    "else:\n",
    "    print(\"Happy Song\")"
   ]
  },
  {
   "cell_type": "code",
   "execution_count": null,
   "metadata": {},
   "outputs": [],
   "source": []
  }
 ],
 "metadata": {
  "kernelspec": {
   "display_name": "Python 3",
   "language": "python",
   "name": "python3"
  },
  "language_info": {
   "codemirror_mode": {
    "name": "ipython",
    "version": 3
   },
   "file_extension": ".py",
   "mimetype": "text/x-python",
   "name": "python",
   "nbconvert_exporter": "python",
   "pygments_lexer": "ipython3",
   "version": "3.6.12"
  }
 },
 "nbformat": 4,
 "nbformat_minor": 5
}
